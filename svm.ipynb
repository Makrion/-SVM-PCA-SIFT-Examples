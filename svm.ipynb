{
 "cells": [
  {
   "cell_type": "code",
   "execution_count": 109,
   "metadata": {},
   "outputs": [],
   "source": [
    "from sklearn import svm"
   ]
  },
  {
   "cell_type": "code",
   "execution_count": 110,
   "metadata": {},
   "outputs": [
    {
     "name": "stdout",
     "output_type": "stream",
     "text": [
      "['oreange' 'oreange' 'banana' 'apple' 'banana']\n"
     ]
    }
   ],
   "source": [
    "#trying linear svm library\n",
    "#using a data set of 7-images each have 3-features\n",
    "x=[\n",
    "    [-3,-1,5],\n",
    "    [0,-2,5],\n",
    "    [-2.5,2,1],\n",
    "    [-1,-1,6],\n",
    "    [3,.5,0],\n",
    "    [.5,3,51],\n",
    "    [-3,-3,4],\n",
    "]\n",
    "\n",
    "#lables of the fruit type in the 7-images\n",
    "y = ['apple','oreange','apple','oreange','apple','oreange','banana']\n",
    "\n",
    "#fit (training my model with x-images having the y-types)\n",
    "clf = svm.SVC(kernel='linear').fit(x,y)\n",
    "\n",
    "#predict the fruit type in a new image\n",
    "print(clf.predict([[0,-2,5.5],[.5,1,5] , [.5,-5,1],[0,1,1],[-3,-3,4]]))"
   ]
  },
  {
   "cell_type": "code",
   "execution_count": 111,
   "metadata": {},
   "outputs": [
    {
     "name": "stdout",
     "output_type": "stream",
     "text": [
      "['oreange' 'apple' 'apple' 'apple' 'banana']\n"
     ]
    }
   ],
   "source": [
    "#trying polynomial svm library\n",
    "#using a data set of 7-images each have 3-features\n",
    "x=[\n",
    "    [-3,-1,5],\n",
    "    [0,-2,5],\n",
    "    [-2.5,2,1],\n",
    "    [-1,-1,6],\n",
    "    [3,.5,0],\n",
    "    [.5,3,51],\n",
    "    [-3,-3,4],\n",
    "]\n",
    "\n",
    "#lables of the fruit type in each of the 7-images\n",
    "y = ['apple','oreange','apple','oreange','apple','oreange','banana']\n",
    "\n",
    "#fit (training my model with x-images having the y-types)\n",
    "#degree : is the power of the scope in the polynomial equation to detect the new dimension..... preferd degree = #features + 1  to avoid overlapped instances\n",
    "#coef0 : is the constant to be added in the scope in the polynomial equation\n",
    "#gamma : just a constant to scale the new values with\n",
    "clf = svm.SVC(kernel='poly',degree=4,gamma='auto',coef0=1).fit(x,y)\n",
    "\n",
    "#predict the fruit type in a new image\n",
    "print(clf.predict([[0,-2,5.5],[.5,1,5] , [.5,-5,1],[0,1,1],[-3,-3,4]]))"
   ]
  },
  {
   "cell_type": "code",
   "execution_count": 112,
   "metadata": {},
   "outputs": [
    {
     "name": "stdout",
     "output_type": "stream",
     "text": [
      "['oreange' 'apple' 'apple' 'apple' 'banana']\n"
     ]
    }
   ],
   "source": [
    "#trying radial svm library\n",
    "#using a data set of 7-images each have 3-features\n",
    "x=[\n",
    "    [-3,-1,5],\n",
    "    [0,-2,5],\n",
    "    [-2.5,2,1],\n",
    "    [-1,-1,6],\n",
    "    [3,.5,0],\n",
    "    [.5,3,51],\n",
    "    [-3,-3,4],\n",
    "]\n",
    "\n",
    "#lables of the fruit type in the 7-images\n",
    "y = ['apple','oreange','apple','oreange','apple','oreange','banana']\n",
    "\n",
    "#fit (training my model with x-images having the y-types)\n",
    "#gamma : just a constant to scale the new values with\n",
    "clf = svm.SVC(kernel='rbf',gamma=6).fit(x,y)\n",
    "\n",
    "#predict the fruit type in a new image\n",
    "print(clf.predict([[0,-2,5.5],[.5,1,5] , [.5,-5,1],[0,1,1],[-3,-3,4]]))"
   ]
  }
 ],
 "metadata": {
  "interpreter": {
   "hash": "6d4cbe4fe6a33e4d72c9a2990f07f1aeb20aae8182e4dceeb23ed7c7096de238"
  },
  "kernelspec": {
   "display_name": "Python 3.8.8 64-bit ('base': conda)",
   "language": "python",
   "name": "python3"
  },
  "language_info": {
   "codemirror_mode": {
    "name": "ipython",
    "version": 3
   },
   "file_extension": ".py",
   "mimetype": "text/x-python",
   "name": "python",
   "nbconvert_exporter": "python",
   "pygments_lexer": "ipython3",
   "version": "3.8.8"
  },
  "orig_nbformat": 4
 },
 "nbformat": 4,
 "nbformat_minor": 2
}
